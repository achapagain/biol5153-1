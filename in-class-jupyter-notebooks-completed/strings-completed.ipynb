{
 "cells": [
  {
   "cell_type": "markdown",
   "metadata": {},
   "source": [
    "## Understanding `print()`\n",
    "\n",
    "  - THIS SECTION IS ALL ABOUT PRINTING"
   ]
  },
  {
   "cell_type": "code",
   "execution_count": null,
   "metadata": {
    "tags": []
   },
   "outputs": [],
   "source": [
    "# hello world\n",
    "print(\"hello world\")\n",
    "print ('hello world')"
   ]
  },
  {
   "cell_type": "markdown",
   "metadata": {},
   "source": [
    "### Printing quotation marks\n",
    "\n",
    "##### Write two print statements that give the following output:\n",
    "\n",
    "She said, 'hello world'\n",
    "\n",
    "She said, \"hello world\"\n"
   ]
  },
  {
   "cell_type": "code",
   "execution_count": null,
   "metadata": {
    "tags": []
   },
   "outputs": [],
   "source": [
    "print(\"She said, 'hello world'\", end = '')\n",
    "print('She said, \"hello world\"')\n",
    "print(\"She said, \\\"hello world\\\"\")"
   ]
  },
  {
   "cell_type": "markdown",
   "metadata": {},
   "source": [
    "### Store and print a variable"
   ]
  },
  {
   "cell_type": "code",
   "execution_count": null,
   "metadata": {
    "tags": []
   },
   "outputs": [],
   "source": [
    "# define some strings\n",
    "first = \"Bob\"\n",
    "last  = \"Dylan\"\n",
    "\n",
    "x = 9\n",
    "y = 7\n",
    "\n",
    "# concatenate those strings\n",
    "full = first + last\n",
    "z = x + y\n",
    "\n",
    "# print the strings\n",
    "print(first)\n",
    "print(last)\n",
    "print(full)\n",
    "print(first + last + \"first\")\n",
    "print(first + \" \" + last + \" is really old\")\n",
    "print(first, last, \"is really old\")"
   ]
  },
  {
   "cell_type": "markdown",
   "metadata": {},
   "source": [
    "### Get the length of a string"
   ]
  },
  {
   "cell_type": "code",
   "execution_count": null,
   "metadata": {
    "tags": []
   },
   "outputs": [],
   "source": [
    "# the long (but readable) way\n",
    "name_length = len(full)\n",
    "print(name_length)\n",
    "\n",
    "# a more concise way to do it, functions within functions\n",
    "print(len(full))"
   ]
  },
  {
   "cell_type": "markdown",
   "metadata": {},
   "source": [
    "### Print strings and numbers"
   ]
  },
  {
   "cell_type": "code",
   "execution_count": null,
   "metadata": {
    "tags": []
   },
   "outputs": [],
   "source": [
    "# print strings and integers\n",
    "print(\"There are\", len(first + last), \"characters in Bob Dylan's name\")\n",
    "\n",
    "# print strings\n",
    "print(\"There are \" + str(len(first + last)) + \" characters in Bob Dylan's name\")"
   ]
  },
  {
   "cell_type": "markdown",
   "metadata": {},
   "source": [
    "### If x = 7 and y = \"7\", write two print statements to print \"77\" and \"14\" as the output"
   ]
  },
  {
   "cell_type": "code",
   "execution_count": null,
   "metadata": {},
   "outputs": [],
   "source": [
    "x = 7\n",
    "y = \"7\"\n",
    "\n",
    "# print the string '77'\n",
    "print(str(x) + y)\n",
    "\n",
    "# add two numbers together\n",
    "print(x + int(y))"
   ]
  },
  {
   "cell_type": "markdown",
   "metadata": {},
   "source": [
    "## Some operations on strings"
   ]
  },
  {
   "cell_type": "code",
   "execution_count": null,
   "metadata": {
    "tags": []
   },
   "outputs": [],
   "source": [
    "# methods to change the case of a string\n",
    "print(first)\n",
    "\n",
    "# lowercase and print\n",
    "print(first.lower())\n",
    "\n",
    "# change the value of the variable; lowercase and save to first\n",
    "first = first.lower()\n",
    "\n",
    "# print the changed variable\n",
    "print(first.capitalize())\n",
    "\n"
   ]
  },
  {
   "cell_type": "code",
   "execution_count": null,
   "metadata": {},
   "outputs": [],
   "source": [
    "# make some replacements\n",
    "dna = 'ACGTTAC'\n",
    "print(dna)\n",
    "\n",
    "# print the dna as an rna string\n",
    "print(dna.replace(\"ACGTTAC\", \"Beyonce\"))"
   ]
  },
  {
   "cell_type": "markdown",
   "metadata": {},
   "source": [
    "## Formatted printing of strings"
   ]
  },
  {
   "cell_type": "code",
   "execution_count": null,
   "metadata": {},
   "outputs": [],
   "source": [
    "print('I love {} and \"{}.\"'.format('tacos', 'geeks'))\n",
    "\n",
    "# using format() method and referring a position of the object\n",
    "print('{1} and {1}'.format('Freaks', 'Geeks'))\n",
    "\n",
    "# combining positional and keyword arguments\n",
    "print('{other} is {1} than {0}.'\n",
    "    .format('Alicia Keys', 'better', other ='Beyonce'))\n",
    "\n",
    "# use f\n",
    "print(f\"I love {'Freaks'} and \\\"{'Geeks'}!\\\"\")\n"
   ]
  },
  {
   "cell_type": "markdown",
   "metadata": {},
   "source": []
  },
  {
   "cell_type": "code",
   "execution_count": null,
   "metadata": {},
   "outputs": [],
   "source": []
  }
 ],
 "metadata": {
  "kernelspec": {
   "display_name": "Python 3 (ipykernel)",
   "language": "python",
   "name": "python3"
  },
  "language_info": {
   "codemirror_mode": {
    "name": "ipython",
    "version": 3
   },
   "file_extension": ".py",
   "mimetype": "text/x-python",
   "name": "python",
   "nbconvert_exporter": "python",
   "pygments_lexer": "ipython3",
   "version": "3.11.5"
  }
 },
 "nbformat": 4,
 "nbformat_minor": 4
}
