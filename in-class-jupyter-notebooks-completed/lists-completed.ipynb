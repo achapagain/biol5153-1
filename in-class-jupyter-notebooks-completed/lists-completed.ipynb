{
 "cells": [
  {
   "cell_type": "markdown",
   "metadata": {},
   "source": [
    "## Working with lists"
   ]
  },
  {
   "cell_type": "code",
   "execution_count": 2,
   "metadata": {},
   "outputs": [],
   "source": [
    "# declare an empty string\n",
    "bob = ''\n",
    "\n",
    "# declare a list\n",
    "beatles = []"
   ]
  },
  {
   "cell_type": "markdown",
   "metadata": {},
   "source": [
    "### What kind of variable is this?"
   ]
  },
  {
   "cell_type": "code",
   "execution_count": 3,
   "metadata": {},
   "outputs": [
    {
     "name": "stdout",
     "output_type": "stream",
     "text": [
      "<class 'str'>\n",
      "<class 'list'>\n"
     ]
    }
   ],
   "source": [
    "print(type(bob))\n",
    "print(type(beatles))"
   ]
  },
  {
   "cell_type": "markdown",
   "metadata": {},
   "source": [
    "### Populate and print a list"
   ]
  },
  {
   "cell_type": "code",
   "execution_count": 4,
   "metadata": {},
   "outputs": [
    {
     "name": "stdout",
     "output_type": "stream",
     "text": [
      "['John', 'Paul', 'George', 'Ringo']\n"
     ]
    }
   ],
   "source": [
    "beatles = [\"John\", \"Paul\", \"George\", \"Ringo\"]\n",
    "print(beatles)"
   ]
  },
  {
   "cell_type": "markdown",
   "metadata": {
    "tags": []
   },
   "source": [
    "### Calculate and print the length of a list"
   ]
  },
  {
   "cell_type": "code",
   "execution_count": 5,
   "metadata": {
    "tags": []
   },
   "outputs": [
    {
     "name": "stdout",
     "output_type": "stream",
     "text": [
      "There are 4 Beatles\n",
      "0\n"
     ]
    }
   ],
   "source": [
    "# calculate number of beatles\n",
    "number_of_beatles = len(beatles)\n",
    "\n",
    "# print number of beatles\n",
    "print(\"There are\", number_of_beatles, \"Beatles\")\n",
    "print(len(bob))"
   ]
  },
  {
   "cell_type": "markdown",
   "metadata": {},
   "source": [
    "### Print an item in a list \n",
    "   \n",
    "   _see PowerPoint slides_"
   ]
  },
  {
   "cell_type": "code",
   "execution_count": 6,
   "metadata": {
    "tags": []
   },
   "outputs": [
    {
     "name": "stdout",
     "output_type": "stream",
     "text": [
      "John\n",
      "Ringo\n",
      "Ringo\n",
      "George\n",
      "Ringo\n",
      "Ringo\n"
     ]
    }
   ],
   "source": [
    "# print the first beatle\n",
    "print(beatles[0])\n",
    "\n",
    "# print the last Beatle\n",
    "print(beatles[3])\n",
    "print(beatles[-1])\n",
    "print(beatles[-2])\n",
    "print(beatles[len(beatles)-1])\n",
    "last = 3\n",
    "print(beatles[last])"
   ]
  },
  {
   "cell_type": "markdown",
   "metadata": {
    "tags": []
   },
   "source": [
    "### Remove an item from a list"
   ]
  },
  {
   "cell_type": "code",
   "execution_count": 7,
   "metadata": {
    "tags": []
   },
   "outputs": [
    {
     "name": "stdout",
     "output_type": "stream",
     "text": [
      "['John', 'Paul', 'George', 'Ringo', 'Stuart']\n"
     ]
    }
   ],
   "source": [
    "# add Stuart\n",
    "beatles.append('Stuart')\n",
    "print(beatles)"
   ]
  },
  {
   "cell_type": "code",
   "execution_count": 8,
   "metadata": {},
   "outputs": [
    {
     "name": "stdout",
     "output_type": "stream",
     "text": [
      "['John', 'Paul', 'George', 'Ringo']\n"
     ]
    }
   ],
   "source": [
    "# Remove the last item in the list (bye, Stuart)\n",
    "gone = beatles.pop()\n",
    "\n",
    "# What happened to the Beatles?\n",
    "print(beatles)"
   ]
  },
  {
   "cell_type": "code",
   "execution_count": 9,
   "metadata": {},
   "outputs": [
    {
     "name": "stdout",
     "output_type": "stream",
     "text": [
      "Stuart\n"
     ]
    }
   ],
   "source": [
    "# we saved the popped beatle\n",
    "print(gone)"
   ]
  },
  {
   "cell_type": "markdown",
   "metadata": {},
   "source": [
    "### Make a new list"
   ]
  },
  {
   "cell_type": "code",
   "execution_count": 10,
   "metadata": {},
   "outputs": [],
   "source": [
    "# make a list called 'stones' with the Rolling Stones (Mick, Ron, and Keith)\n",
    "stones = ['mick', 'ron', 'keith']"
   ]
  },
  {
   "cell_type": "markdown",
   "metadata": {},
   "source": [
    "### Add two lists"
   ]
  },
  {
   "cell_type": "code",
   "execution_count": 11,
   "metadata": {
    "tags": []
   },
   "outputs": [
    {
     "name": "stdout",
     "output_type": "stream",
     "text": [
      "bobdylan\n",
      "['John', 'Paul', 'George', 'Ringo', 'mick', 'ron', 'keith']\n",
      "7\n"
     ]
    }
   ],
   "source": [
    "# add two strings \n",
    "first = 'bob'\n",
    "last = 'dylan'\n",
    "print(first + last)\n",
    "\n",
    "# add two lists together\n",
    "supergroup = beatles + stones\n",
    "\n",
    "# print our new list\n",
    "print(supergroup)\n",
    "print(len(supergroup))"
   ]
  },
  {
   "cell_type": "markdown",
   "metadata": {},
   "source": [
    "### Make some new lists"
   ]
  },
  {
   "cell_type": "code",
   "execution_count": 12,
   "metadata": {},
   "outputs": [],
   "source": [
    "# start fresh with new groups\n",
    "jackson5 = ['jackie', 'tito', 'jermaine', 'marlon', 'michael']\n",
    "destiny  = ['beyonce', 'kelly', 'michelle']\n",
    "top40    = ['taylorswift', 'postmalone']"
   ]
  },
  {
   "cell_type": "markdown",
   "metadata": {},
   "source": [
    "### Growing a list with `extend()`"
   ]
  },
  {
   "cell_type": "code",
   "execution_count": 13,
   "metadata": {
    "tags": []
   },
   "outputs": [
    {
     "name": "stdout",
     "output_type": "stream",
     "text": [
      "['jackie', 'tito', 'jermaine', 'marlon', 'michael']\n",
      "['beyonce', 'kelly', 'michelle']\n",
      "['jackie', 'tito', 'jermaine', 'marlon', 'michael', 'person1', 'person2']\n"
     ]
    }
   ],
   "source": [
    "# print our lists\n",
    "print(jackson5)\n",
    "print(destiny)\n",
    "\n",
    "# use extend() to add Destiny's Child to the Jackson 5\n",
    "jackson5.extend(['person1', 'person2'])\n",
    "print(jackson5)"
   ]
  },
  {
   "cell_type": "code",
   "execution_count": 14,
   "metadata": {
    "tags": []
   },
   "outputs": [
    {
     "name": "stdout",
     "output_type": "stream",
     "text": [
      "first value of super: None\n",
      "second value of super: ['jackie', 'tito', 'jermaine', 'marlon', 'michael', 'beyonce', 'kelly', 'michelle', 'beyonce', 'kelly', 'michelle']\n"
     ]
    }
   ],
   "source": [
    "# refresh my groups\n",
    "jackson5 = ['jackie', 'tito', 'jermaine', 'marlon', 'michael']\n",
    "destiny  = ['beyonce', 'kelly', 'michelle']\n",
    "top40    = ['taylorswift', 'postmalone']\n",
    "\n",
    "# extend() modifies a list in place, it doesn't return a value (i.e., a new list)\n",
    "super = jackson5.extend(destiny)\n",
    "print('first value of super:', super) # returns 'None' because jackson5 is modified in place, not saved to super\n",
    "\n",
    "# so use \"+\" if you want to create a new list\n",
    "super = jackson5 + destiny\n",
    "print('second value of super:', super)"
   ]
  },
  {
   "cell_type": "markdown",
   "metadata": {},
   "source": [
    "### Growing a list with `append()`"
   ]
  },
  {
   "cell_type": "code",
   "execution_count": 15,
   "metadata": {
    "tags": []
   },
   "outputs": [
    {
     "name": "stdout",
     "output_type": "stream",
     "text": [
      "['beyonce', 'kelly', 'michelle', 'bob']\n",
      "['beyonce', 'kelly', 'michelle', 'bob', ['george', 'paul', 'ringo', 'john']]\n"
     ]
    }
   ],
   "source": [
    "# use `append()` to add some old men\n",
    "destiny.append('bob')\n",
    "print(destiny)\n",
    "destiny.append(['george', 'paul', 'ringo', 'john'])\n",
    "print(destiny)\n",
    "\n",
    "# What did append do?"
   ]
  },
  {
   "cell_type": "code",
   "execution_count": 16,
   "metadata": {},
   "outputs": [
    {
     "name": "stdout",
     "output_type": "stream",
     "text": [
      "<class 'str'>\n",
      "<class 'list'>\n"
     ]
    }
   ],
   "source": [
    "print(type(destiny[3]))\n",
    "print(type(destiny[4]))"
   ]
  },
  {
   "cell_type": "code",
   "execution_count": 17,
   "metadata": {
    "tags": []
   },
   "outputs": [
    {
     "name": "stdout",
     "output_type": "stream",
     "text": [
      "5\n",
      "bob\n",
      "['george', 'paul', 'ringo', 'john']\n"
     ]
    }
   ],
   "source": [
    "# How long is this list?\n",
    "print(len(destiny))\n",
    "# Find and print Ringo, who is buried in there\n",
    "print(destiny[3])\n",
    "print(destiny[4])\n"
   ]
  },
  {
   "cell_type": "code",
   "execution_count": 18,
   "metadata": {},
   "outputs": [
    {
     "name": "stdout",
     "output_type": "stream",
     "text": [
      "['george', 'paul', 'ringo', 'john']\n",
      "ringo\n",
      "ringo\n"
     ]
    }
   ],
   "source": [
    "# 'destiny[4] is just a list that we can do list stuff with\n",
    "print(destiny[4])\n",
    "my_new_list = destiny[4]\n",
    "print(my_new_list[2])\n",
    "print(destiny[4][2])"
   ]
  },
  {
   "cell_type": "markdown",
   "metadata": {},
   "source": [
    "### looping over a list\n",
    "\n",
    "structure of a for loop:\n",
    "\n",
    "`for <variable> in <name of list>:`\n",
    "        \n",
    "        do something"
   ]
  },
  {
   "cell_type": "code",
   "execution_count": 19,
   "metadata": {},
   "outputs": [
    {
     "name": "stdout",
     "output_type": "stream",
     "text": [
      "beyonce\n",
      "kelly\n",
      "michelle\n",
      "bob\n",
      "['george', 'paul', 'ringo', 'john']\n",
      "\n",
      "now I'm outside the loop: ['george', 'paul', 'ringo', 'john']\n"
     ]
    }
   ],
   "source": [
    "# loop over destiny\n",
    "for i in destiny:\n",
    "    print(i)\n",
    "print()\n",
    "print(\"now I'm outside the loop:\", i)"
   ]
  },
  {
   "cell_type": "code",
   "execution_count": 20,
   "metadata": {},
   "outputs": [
    {
     "name": "stdout",
     "output_type": "stream",
     "text": [
      "george\n",
      "paul\n",
      "ringo\n",
      "john\n"
     ]
    }
   ],
   "source": [
    "# for loop to print just the beatles part of destiny()\n",
    "for old_man in destiny[4]:\n",
    "    print(old_man)"
   ]
  },
  {
   "cell_type": "markdown",
   "metadata": {},
   "source": [
    "### introduce a test"
   ]
  },
  {
   "cell_type": "code",
   "execution_count": 21,
   "metadata": {},
   "outputs": [
    {
     "name": "stdout",
     "output_type": "stream",
     "text": [
      "It's a string: beyonce\n",
      "It's a string: kelly\n",
      "It's a string: michelle\n",
      "It's a string: bob\n",
      "It's a list: ['george', 'paul', 'ringo', 'john']\n"
     ]
    }
   ],
   "source": [
    "# is the value a list or a string?\n",
    "for i in destiny:\n",
    "\n",
    "    # if list returns true\n",
    "    if type(i) is list:\n",
    "        print(\"It's a list:\", i)\n",
    "\n",
    "    # else we know it's a string\n",
    "    else:\n",
    "        print(\"It's a string:\", i)"
   ]
  },
  {
   "cell_type": "markdown",
   "metadata": {},
   "source": [
    "### executing a nested `for` loop"
   ]
  },
  {
   "cell_type": "code",
   "execution_count": 37,
   "metadata": {},
   "outputs": [
    {
     "name": "stdout",
     "output_type": "stream",
     "text": [
      "['beyonce', 'kelly', 'michelle', 'bob', ['george', 'paul', 'ringo', 'john']]\n",
      "destiny's child #1 is beyonce\n",
      "destiny's child #2 is kelly\n",
      "destiny's child #3 is michelle\n",
      "destiny's child #4 is bob\n",
      "beatle #1 is george\n",
      "beatle #2 is paul\n",
      "beatle #3 is ringo\n",
      "beatle #4 is john\n"
     ]
    }
   ],
   "source": [
    "print(destiny)\n",
    "\n",
    "j = 1 # the counter for destiny's child\n",
    "k = 1 # the counter for the beatles\n",
    "\n",
    "for i in destiny:\n",
    "\n",
    "    # if list returns true, then loop over this inner list\n",
    "    if type(i) is list:\n",
    "        for dude in i:\n",
    "            print(\"beatle #\" + str(k) + \" is \" + dude)\n",
    "            k += 1\n",
    "    # else we know it's a string\n",
    "    else:\n",
    "        print(\"destiny's child #\" + str(j) + \" is \" + i)\n",
    "        j += 1"
   ]
  },
  {
   "cell_type": "markdown",
   "metadata": {},
   "source": [
    "### retrieve the index _and_ the value with `enumerate()`"
   ]
  },
  {
   "cell_type": "code",
   "execution_count": 46,
   "metadata": {},
   "outputs": [
    {
     "name": "stdout",
     "output_type": "stream",
     "text": [
      "president number 1 was George Washington\n",
      "president number 2 was John Adams\n",
      "president number 3 was Thomas Jefferson\n",
      "president number 4 was James Madison\n",
      "president number 5 was James Monroe\n",
      "president number 6 was John Quincy Adams\n",
      "president number 7 was Andrew Jackson\n",
      "president number 8 was Martin Van Buren\n",
      "president number 9 was William Henry Harrison\n",
      "president number 10 was John Tyler\n",
      "president number 11 was James Knox Polk\n",
      "president number 12 was Zachary Taylor\n",
      "president number 13 was Millard Fillmore\n",
      "president number 14 was Franklin Pierce\n",
      "president number 15 was James Buchanan\n",
      "president number 16 was Abraham Lincoln\n",
      "president number 17 was Andrew Johnson\n",
      "president number 18 was Ulysses S. Grant\n",
      "president number 19 was Rutherford Birchard Hayes\n",
      "president number 20 was James Abram Garfield\n",
      "president number 21 was Chester Alan Arthur\n",
      "president number 22 was Grover Cleveland\n",
      "president number 23 was Benjamin Harrison\n",
      "president number 24 was Grover Cleveland\n",
      "president number 25 was William McKinley\n",
      "president number 26 was Theodore Roosevelt\n",
      "president number 27 was William Howard Taft\n",
      "president number 28 was Woodrow Wilson\n",
      "president number 29 was Warren Gamaliel Harding\n",
      "president number 30 was Calvin Coolidge\n",
      "president number 31 was Herbert Clark Hoover\n",
      "president number 32 was Franklin Delano Roosevelt\n",
      "president number 33 was Harry S. Truman\n",
      "president number 34 was Dwight David Eisenhower\n",
      "president number 35 was John Fitzgerald Kennedy\n",
      "president number 36 was Lyndon Baines Johnson\n",
      "president number 37 was Richard Milhous Nixon\n",
      "president number 38 was Gerald Rudolph Ford\n",
      "president number 39 was James Earl Carter Jr.\n",
      "president number 40 was Ronald Wilson Reagan\n",
      "president number 41 was George Herbert Walker Bush\n",
      "president number 42 was William Jefferson Clinton\n",
      "president number 43 was George Walker Bush\n",
      "president number 44 was Barack Hussein Obama\n",
      "president number 45 was Donald Trump\n",
      "president number 46 was Joe Biden\n",
      "president number 1 was George Washington\n",
      "president number 2 was John Adams\n",
      "president number 3 was Thomas Jefferson\n",
      "president number 4 was James Madison\n",
      "president number 5 was James Monroe\n",
      "president number 6 was John Quincy Adams\n",
      "president number 7 was Andrew Jackson\n",
      "president number 8 was Martin Van Buren\n",
      "president number 9 was William Henry Harrison\n",
      "president number 10 was John Tyler\n",
      "president number 11 was James Knox Polk\n",
      "president number 12 was Zachary Taylor\n",
      "president number 13 was Millard Fillmore\n",
      "president number 14 was Franklin Pierce\n",
      "president number 15 was James Buchanan\n",
      "president number 16 was Abraham Lincoln\n",
      "president number 17 was Andrew Johnson\n",
      "president number 18 was Ulysses S. Grant\n",
      "president number 19 was Rutherford Birchard Hayes\n",
      "president number 20 was James Abram Garfield\n",
      "president number 21 was Chester Alan Arthur\n",
      "president number 22 was Grover Cleveland\n",
      "president number 23 was Benjamin Harrison\n",
      "president number 24 was Grover Cleveland\n",
      "president number 25 was William McKinley\n",
      "president number 26 was Theodore Roosevelt\n",
      "president number 27 was William Howard Taft\n",
      "president number 28 was Woodrow Wilson\n",
      "president number 29 was Warren Gamaliel Harding\n",
      "president number 30 was Calvin Coolidge\n",
      "president number 31 was Herbert Clark Hoover\n",
      "president number 32 was Franklin Delano Roosevelt\n",
      "president number 33 was Harry S. Truman\n",
      "president number 34 was Dwight David Eisenhower\n",
      "president number 35 was John Fitzgerald Kennedy\n",
      "president number 36 was Lyndon Baines Johnson\n",
      "president number 37 was Richard Milhous Nixon\n",
      "president number 38 was Gerald Rudolph Ford\n",
      "president number 39 was James Earl Carter Jr.\n",
      "president number 40 was Ronald Wilson Reagan\n",
      "president number 41 was George Herbert Walker Bush\n",
      "president number 42 was William Jefferson Clinton\n",
      "president number 43 was George Walker Bush\n",
      "president number 44 was Barack Hussein Obama\n",
      "president number 45 was Donald Trump\n",
      "president number 46 was Joe Biden\n"
     ]
    }
   ],
   "source": [
    "# lots of flexibility with enumerate()\n",
    "presidents = [\"George Washington\", \"John Adams\", \"Thomas Jefferson\", \"James Madison\", \"James Monroe\", \"John Quincy Adams\", \"Andrew Jackson\", \"Martin Van Buren\", \"William Henry Harrison\", \"John Tyler\", \"James Knox Polk\", \"Zachary Taylor\", \"Millard Fillmore\", \"Franklin Pierce\", \"James Buchanan\", \"Abraham Lincoln\", \"Andrew Johnson\", \"Ulysses S. Grant\", \"Rutherford Birchard Hayes\", \"James Abram Garfield\", \"Chester Alan Arthur\", \"Grover Cleveland\", \"Benjamin Harrison\", \"Grover Cleveland\", \"William McKinley\", \"Theodore Roosevelt\", \"William Howard Taft\", \"Woodrow Wilson\", \"Warren Gamaliel Harding\", \"Calvin Coolidge\", \"Herbert Clark Hoover\", \"Franklin Delano Roosevelt\", \"Harry S. Truman\", \"Dwight David Eisenhower\", \"John Fitzgerald Kennedy\", \"Lyndon Baines Johnson\", \"Richard Milhous Nixon\", \"Gerald Rudolph Ford\", \"James Earl Carter Jr.\", \"Ronald Wilson Reagan\", \"George Herbert Walker Bush\", \"William Jefferson Clinton\", \"George Walker Bush\", \"Barack Hussein Obama\", \"Donald Trump\", \"Joe Biden\"]\n",
    "pres_num = 1\n",
    "\n",
    "\n",
    "for i in presidents:\n",
    "    print(\"president number\", pres_num, \"was\", i)\n",
    "    pres_num += 1  \n",
    "\n",
    "\n",
    "for num, name in enumerate(presidents):\n",
    "    print(\"president number\", num+1, \"was\", name)"
   ]
  },
  {
   "cell_type": "markdown",
   "metadata": {},
   "source": [
    "### loop over a string"
   ]
  },
  {
   "cell_type": "code",
   "execution_count": 49,
   "metadata": {},
   "outputs": [
    {
     "name": "stdout",
     "output_type": "stream",
     "text": [
      "<class 'str'>\n",
      "W\n",
      "W\n",
      "e\n",
      "d\n",
      "n\n",
      "e\n",
      "s\n",
      "d\n",
      "a\n",
      "y\n"
     ]
    }
   ],
   "source": [
    "today = \"Wednesday\"\n",
    "print(type(today))\n",
    "print(today[0])\n",
    "for i in today:\n",
    "    print(i)"
   ]
  },
  {
   "cell_type": "markdown",
   "metadata": {},
   "source": [
    "### write a short Python script that will print a formatted multiplication table\n",
    "\n",
    "- the script should prompt the user for the size/dimensions of the multiplication table\n",
    "- you will probably want to use the `range()` function\n",
    "- your output should be neatly formatted with columns aligned\n",
    "- don't use chatGPT – just try it\n",
    "- get it working in a script called `multiply.py`, and push to GitHub\n",
    "- without hard-coding the size of the output strings, bonus if your script will print equally pretty output for 1, 2, 3, 4 . . . n digit answers"
   ]
  },
  {
   "cell_type": "code",
   "execution_count": null,
   "metadata": {},
   "outputs": [],
   "source": []
  },
  {
   "cell_type": "markdown",
   "metadata": {},
   "source": []
  }
 ],
 "metadata": {
  "kernelspec": {
   "display_name": "Python 3 (ipykernel)",
   "language": "python",
   "name": "python3"
  },
  "language_info": {
   "codemirror_mode": {
    "name": "ipython",
    "version": 3
   },
   "file_extension": ".py",
   "mimetype": "text/x-python",
   "name": "python",
   "nbconvert_exporter": "python",
   "pygments_lexer": "ipython3",
   "version": "3.11.5"
  }
 },
 "nbformat": 4,
 "nbformat_minor": 4
}
